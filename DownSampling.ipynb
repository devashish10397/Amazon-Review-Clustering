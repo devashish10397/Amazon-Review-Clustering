{
 "cells": [
  {
   "cell_type": "code",
   "execution_count": 9,
   "id": "ffe52d77",
   "metadata": {},
   "outputs": [],
   "source": [
    "import pandas as pd"
   ]
  },
  {
   "cell_type": "code",
   "execution_count": 6,
   "id": "52b8987b",
   "metadata": {},
   "outputs": [],
   "source": [
    "import json\n",
    "\n",
    "# set the input and output file paths\n",
    "data_file_path = \"Home_and_Kitchen.json\"\n",
    "metadata_file_path = \"meta_Home_and_Kitchen.json\"\n",
    "data_output_file_path = \"data_5pct.json\"\n",
    "metadata_output_file_path = \"metadata_5pct.json\"\n",
    "\n",
    "# set the sampling rate\n",
    "sampling_rate = 0.01\n",
    "\n",
    "# count the number of lines in the data file\n",
    "with open(data_file_path, \"r\") as f:\n",
    "    num_lines = sum(1 for line in f)\n",
    "\n",
    "# count the number of lines in the metadata file\n",
    "with open(metadata_file_path, \"r\") as f:\n",
    "    num_metadata_lines = sum(1 for line in f)\n",
    "\n",
    "# calculate the number of lines to sample from each file\n",
    "num_lines_to_sample = int(num_lines * sampling_rate)\n",
    "num_metadata_lines_to_sample = int(num_metadata_lines * sampling_rate)\n",
    "\n",
    "# read in the first num_lines_to_sample lines from the data file\n",
    "with open(data_file_path, \"r\") as f, open(data_output_file_path, \"w\") as out_file:\n",
    "    for i, line in enumerate(f):\n",
    "        if i >= num_lines_to_sample:\n",
    "            break\n",
    "        out_file.write(line)\n",
    "\n",
    "# read in the first num_metadata_lines_to_sample lines from the metadata file\n",
    "with open(metadata_file_path, \"r\") as f, open(metadata_output_file_path, \"w\") as out_file:\n",
    "    for i, line in enumerate(f):\n",
    "        if i >= num_metadata_lines_to_sample:\n",
    "            break\n",
    "        out_file.write(line)"
   ]
  },
  {
   "cell_type": "code",
   "execution_count": null,
   "id": "d380001a",
   "metadata": {},
   "outputs": [],
   "source": [
    "df_data = pd.read_json('data_5pct.json', lines=True)"
   ]
  },
  {
   "cell_type": "code",
   "execution_count": null,
   "id": "288ad5f0",
   "metadata": {},
   "outputs": [],
   "source": [
    "#After looking into metadata's complexity I decided to use only data"
   ]
  },
  {
   "cell_type": "code",
   "execution_count": null,
   "id": "19ef6fa0",
   "metadata": {},
   "outputs": [],
   "source": [
    "# set the sampling rate (only 1% of the total data)\n",
    "sampling_rate = 0.01"
   ]
  },
  {
   "cell_type": "code",
   "execution_count": null,
   "id": "6ee28360",
   "metadata": {},
   "outputs": [],
   "source": [
    "metadata_file_path = \"meta_Home_and_Kitchen.json\"\n",
    "data_output_file_path = \"data_1pct.json\""
   ]
  },
  {
   "cell_type": "code",
   "execution_count": null,
   "id": "3d93cfa7",
   "metadata": {},
   "outputs": [],
   "source": [
    "# count the number of lines in the data file\n",
    "with open(data_file_path, \"r\") as f:\n",
    "    num_lines = sum(1 for line in f)\n",
    "\n",
    "\n",
    "# calculate the number of lines to sample from each file\n",
    "num_lines_to_sample = int(num_lines * sampling_rate)\n",
    "\n",
    "# read in the first num_lines_to_sample lines from the data file\n",
    "with open(data_file_path, \"r\") as f, open(data_output_file_path, \"w\") as out_file:\n",
    "    for i, line in enumerate(f):\n",
    "        if i >= num_lines_to_sample:\n",
    "            break\n",
    "        out_file.write(line)\n"
   ]
  }
 ],
 "metadata": {
  "kernelspec": {
   "display_name": "Python 3 (ipykernel)",
   "language": "python",
   "name": "python3"
  },
  "language_info": {
   "codemirror_mode": {
    "name": "ipython",
    "version": 3
   },
   "file_extension": ".py",
   "mimetype": "text/x-python",
   "name": "python",
   "nbconvert_exporter": "python",
   "pygments_lexer": "ipython3",
   "version": "3.9.13"
  }
 },
 "nbformat": 4,
 "nbformat_minor": 5
}
